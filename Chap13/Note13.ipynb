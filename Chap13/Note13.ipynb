{
 "cells": [
  {
   "cell_type": "markdown",
   "metadata": {},
   "source": [
    "1. 模块是什么"
   ]
  },
  {
   "cell_type": "code",
   "execution_count": 7,
   "metadata": {},
   "outputs": [
    {
     "name": "stdout",
     "output_type": "stream",
     "text": [
      "30\n"
     ]
    }
   ],
   "source": [
    "# 模块中有什么：函数、类（类属性、类方法，静态方法，实例方法）、语句\n",
    "# 可以有n个模块，模块最终组成python程序\n",
    "# 每个模块可以给不同的人开发，有利于团队开发，可以实现代码复用，不同模块之间可以避免变量名的冲突\n",
    "def fun():\n",
    "    pass\n",
    "\n",
    "\n",
    "def fun2():\n",
    "    pass\n",
    "\n",
    "\n",
    "class Student:\n",
    "    native_place = '吉林'  # 类属性\n",
    "\n",
    "    def __init__(self, name, age):\n",
    "        self.age = age\n",
    "        self.name = name\n",
    "\n",
    "    def eat(self, name, age):\n",
    "        self.age = age\n",
    "        self.name = name\n",
    "\n",
    "    @classmethod\n",
    "    def cm(cls):\n",
    "        pass\n",
    "\n",
    "    @staticmethod\n",
    "    def sm():\n",
    "        pass\n",
    "\n",
    "\n",
    "a = 10\n",
    "b = 20\n",
    "print(a + b)"
   ]
  },
  {
   "attachments": {},
   "cell_type": "markdown",
   "metadata": {},
   "source": [
    "2. 模块的导入"
   ]
  },
  {
   "cell_type": "code",
   "execution_count": 9,
   "metadata": {},
   "outputs": [
    {
     "name": "stdout",
     "output_type": "stream",
     "text": [
      "2877122543840\n",
      "<class 'module'>\n",
      "<module 'math' (built-in)>\n",
      "3.141592653589793\n",
      "['__doc__', '__loader__', '__name__', '__package__', '__spec__', 'acos', 'acosh', 'asin', 'asinh', 'atan', 'atan2', 'atanh', 'ceil', 'comb', 'copysign', 'cos', 'cosh', 'degrees', 'dist', 'e', 'erf', 'erfc', 'exp', 'expm1', 'fabs', 'factorial', 'floor', 'fmod', 'frexp', 'fsum', 'gamma', 'gcd', 'hypot', 'inf', 'isclose', 'isfinite', 'isinf', 'isnan', 'isqrt', 'lcm', 'ldexp', 'lgamma', 'log', 'log10', 'log1p', 'log2', 'modf', 'nan', 'nextafter', 'perm', 'pi', 'pow', 'prod', 'radians', 'remainder', 'sin', 'sinh', 'sqrt', 'tan', 'tanh', 'tau', 'trunc', 'ulp']\n",
      "8.0 <class 'float'>\n",
      "10\n",
      "9\n"
     ]
    }
   ],
   "source": [
    "import math\n",
    "print(id(math))\n",
    "print(type(math))\n",
    "print(math)\n",
    "print(math.pi)\n",
    "\n",
    "print(dir(math))\n",
    "print(math.pow(2, 3), type(math.pow(2, 3)))  # 2的3次方\n",
    "print(math.ceil(9.001))  # 天花板\n",
    "print(math.floor(9.99))  # 地板"
   ]
  },
  {
   "cell_type": "markdown",
   "metadata": {},
   "source": [
    "3. 导入自定义模块"
   ]
  },
  {
   "cell_type": "code",
   "execution_count": 2,
   "metadata": {},
   "outputs": [
    {
     "ename": "ModuleNotFoundError",
     "evalue": "No module named 'calc'",
     "output_type": "error",
     "traceback": [
      "\u001b[1;31m---------------------------------------------------------------------------\u001b[0m",
      "\u001b[1;31mModuleNotFoundError\u001b[0m                       Traceback (most recent call last)",
      "Cell \u001b[1;32mIn[2], line 4\u001b[0m\n\u001b[0;32m      1\u001b[0m \u001b[39m# 导入自定义模块\u001b[39;00m\n\u001b[0;32m      2\u001b[0m \u001b[39m# 在该模块中导入calc自定义模块的使用\u001b[39;00m\n\u001b[0;32m      3\u001b[0m \u001b[39m# 把整个文件夹作为source源\u001b[39;00m\n\u001b[1;32m----> 4\u001b[0m \u001b[39mimport\u001b[39;00m \u001b[39mcalc\u001b[39;00m\n\u001b[0;32m      5\u001b[0m \u001b[39mprint\u001b[39m(calc\u001b[39m.\u001b[39madd(\u001b[39m10\u001b[39m, \u001b[39m20\u001b[39m))\n\u001b[0;32m      6\u001b[0m \u001b[39mprint\u001b[39m(calc\u001b[39m.\u001b[39mdiv(\u001b[39m10\u001b[39m, \u001b[39m4\u001b[39m))\n",
      "\u001b[1;31mModuleNotFoundError\u001b[0m: No module named 'calc'"
     ]
    }
   ],
   "source": [
    "# 导入自定义模块\n",
    "# 在该模块中导入calc自定义模块的使用\n",
    "# 把整个文件夹作为source源\n",
    "import calc\n",
    "print(calc.add(10, 20))\n",
    "print(calc.div(10, 4))\n",
    "\n",
    "# 或者用：\n",
    "'''\n",
    "from calc import add\n",
    "print(add(10, 20))\n",
    "'''"
   ]
  },
  {
   "attachments": {},
   "cell_type": "markdown",
   "metadata": {},
   "source": [
    "4. 以主程序方试运行"
   ]
  },
  {
   "cell_type": "code",
   "execution_count": 1,
   "metadata": {},
   "outputs": [
    {
     "ename": "ModuleNotFoundError",
     "evalue": "No module named 'calc2'",
     "output_type": "error",
     "traceback": [
      "\u001b[1;31m---------------------------------------------------------------------------\u001b[0m",
      "\u001b[1;31mModuleNotFoundError\u001b[0m                       Traceback (most recent call last)",
      "Cell \u001b[1;32mIn[1], line 2\u001b[0m\n\u001b[0;32m      1\u001b[0m \u001b[39m# 导入自定义模块\u001b[39;00m\n\u001b[1;32m----> 2\u001b[0m \u001b[39mimport\u001b[39;00m \u001b[39mcalc2\u001b[39;00m\n\u001b[0;32m      3\u001b[0m \u001b[39mprint\u001b[39m(calc2\u001b[39m.\u001b[39madd(\u001b[39m100\u001b[39m, \u001b[39m200\u001b[39m))  \u001b[39m# 30也出来了\u001b[39;00m\n\u001b[0;32m      5\u001b[0m \u001b[39m\"\"\"if __name__ == '__main__':\u001b[39;00m\n\u001b[0;32m      6\u001b[0m \u001b[39m    print(add(10, 20))  # 只有当运行calc2时候才能运行这句话\u001b[39;00m\n\u001b[0;32m      7\u001b[0m \u001b[39m添加之后没有30了\"\"\"\u001b[39;00m\n",
      "\u001b[1;31mModuleNotFoundError\u001b[0m: No module named 'calc2'"
     ]
    }
   ],
   "source": [
    "# 导入自定义模块\n",
    "import calc2\n",
    "print(calc2.add(100, 200))  # 30也出来了\n",
    "\n",
    "\"\"\"if __name__ == '__main__':\n",
    "    print(add(10, 20))  # 只有当运行calc2时候才能运行这句话\n",
    "添加之后没有30了\"\"\""
   ]
  },
  {
   "attachments": {},
   "cell_type": "markdown",
   "metadata": {},
   "source": [
    "5. python中的包"
   ]
  },
  {
   "cell_type": "code",
   "execution_count": null,
   "metadata": {},
   "outputs": [],
   "source": [
    "\"\"\"\n",
    "python程序-->包-->模块\n",
    "\"\"\"\n",
    "# 在该模块中导入pageage1\n",
    "import pageage1.module_A as A  # A是该模块的别名\n",
    "# print(pageage1.module_A.a)\n",
    "print(A.a)"
   ]
  },
  {
   "cell_type": "code",
   "execution_count": null,
   "metadata": {},
   "outputs": [],
   "source": [
    "# 导入带有包的模块时的注意事项\n",
    "# 使用import方式进行导入，只能写包名或者模块名\n",
    "import pageage1\n",
    "import calc\n",
    "\n",
    "# from方式进行导入可以导入函数名，模块名，变量名\n",
    "from pageage1 import module_A\n",
    "from pageage1.module_A import a"
   ]
  },
  {
   "attachments": {},
   "cell_type": "markdown",
   "metadata": {},
   "source": [
    "6. 常用的内容模块"
   ]
  },
  {
   "cell_type": "code",
   "execution_count": null,
   "metadata": {},
   "outputs": [],
   "source": [
    "import sys\n",
    "import time\n",
    "import urllib.request\n",
    "import math\n",
    "\n",
    "print(sys.getsizeof(24))\n",
    "print(sys.getsizeof(45))\n",
    "print(sys.getsizeof(True))\n",
    "print(sys.getsizeof(False))\n",
    "\n",
    "print(time.time())  # 秒\n",
    "print(time.localtime(time.time()))  # 现在的时间\n",
    "\n",
    "print(urllib.request.urlopen('http://www.baidu.com').read())  # 爬虫\n",
    "\n",
    "print(math.pi)"
   ]
  },
  {
   "attachments": {},
   "cell_type": "markdown",
   "metadata": {},
   "source": [
    "7. 第三方模块安装使用"
   ]
  },
  {
   "cell_type": "code",
   "execution_count": null,
   "metadata": {},
   "outputs": [],
   "source": [
    "# 第三方模块使用\n",
    "import time\n",
    "import schedule\n",
    "\n",
    "def job():\n",
    "    print('哈哈-------')\n",
    "\n",
    "schedule.every(3).seconds.do(job)  # 三秒执行一次    \n",
    "\n",
    "i = 0\n",
    "while True:\n",
    "    schedule.run_pending()\n",
    "    time.sleep(1)  # 休眠一秒\n",
    "    i = i + 1\n",
    "    if (i == 10):\n",
    "        break"
   ]
  }
 ],
 "metadata": {
  "kernelspec": {
   "display_name": "Python 3",
   "language": "python",
   "name": "python3"
  },
  "language_info": {
   "codemirror_mode": {
    "name": "ipython",
    "version": 3
   },
   "file_extension": ".py",
   "mimetype": "text/x-python",
   "name": "python",
   "nbconvert_exporter": "python",
   "pygments_lexer": "ipython3",
   "version": "3.10.9 (tags/v3.10.9:1dd9be6, Dec  6 2022, 20:01:21) [MSC v.1934 64 bit (AMD64)]"
  },
  "orig_nbformat": 4,
  "vscode": {
   "interpreter": {
    "hash": "1bf0dbbb4f5be86e7d40bba1dd39b226aa38c4806ec7f91362d53e5875e69c4e"
   }
  }
 },
 "nbformat": 4,
 "nbformat_minor": 2
}
