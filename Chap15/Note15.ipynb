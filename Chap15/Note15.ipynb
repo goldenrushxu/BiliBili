{
 "cells": [
  {
   "attachments": {},
   "cell_type": "markdown",
   "metadata": {},
   "source": [
    "1. 编码格式"
   ]
  },
  {
   "cell_type": "code",
   "execution_count": null,
   "metadata": {},
   "outputs": [],
   "source": [
    "# 默认：UTF-8\n",
    "# 修改：最前面添加encoding=GBK等，不同的编码方式决定了占磁盘字节是多少\n",
    "print('你好')"
   ]
  },
  {
   "attachments": {},
   "cell_type": "markdown",
   "metadata": {},
   "source": [
    "2. 读取磁盘文件内容"
   ]
  },
  {
   "cell_type": "code",
   "execution_count": 4,
   "metadata": {},
   "outputs": [
    {
     "name": "stdout",
     "output_type": "stream",
     "text": [
      "['test character\\n', '\\n', '\\n', '试试中文s']\n"
     ]
    }
   ],
   "source": [
    "\"\"\"\n",
    "文件的读写原理：IO操作\n",
    "队列先进先出\n",
    ".py文件到解释器，到os，再到硬盘中操作\n",
    "步骤：打开或新建文件，读写文件，关闭资源\n",
    "\"\"\"\n",
    "file = open('a.txt', 'r')  # r表示读取\n",
    "print(file.readlines())  # 结果是个列表，所有内容行\n",
    "file.close()"
   ]
  },
  {
   "cell_type": "markdown",
   "metadata": {},
   "source": [
    "3. 常用文件打开模式"
   ]
  },
  {
   "cell_type": "code",
   "execution_count": 5,
   "metadata": {},
   "outputs": [
    {
     "ename": "FileNotFoundError",
     "evalue": "[Errno 2] No such file or directory: 'xiaowangtongxue_logo.jpg'",
     "output_type": "error",
     "traceback": [
      "\u001b[1;31m---------------------------------------------------------------------------\u001b[0m",
      "\u001b[1;31mFileNotFoundError\u001b[0m                         Traceback (most recent call last)",
      "Cell \u001b[1;32mIn[5], line 14\u001b[0m\n\u001b[0;32m     11\u001b[0m file\u001b[39m.\u001b[39mclose()\n\u001b[0;32m     13\u001b[0m \u001b[39m# b以二进制方式打开文件，不能单独使用，需要与其他模式一起使用，rb或者rw\u001b[39;00m\n\u001b[1;32m---> 14\u001b[0m src_file \u001b[39m=\u001b[39m \u001b[39mopen\u001b[39;49m(\u001b[39m'\u001b[39;49m\u001b[39mxiaowangtongxue_logo.jpg\u001b[39;49m\u001b[39m'\u001b[39;49m, \u001b[39m'\u001b[39;49m\u001b[39mrb\u001b[39;49m\u001b[39m'\u001b[39;49m)\n\u001b[0;32m     15\u001b[0m target_file \u001b[39m=\u001b[39m \u001b[39mopen\u001b[39m(\u001b[39m'\u001b[39m\u001b[39mcopy_xiaowangtongxue_logo.jpg\u001b[39m\u001b[39m'\u001b[39m, \u001b[39m'\u001b[39m\u001b[39mwb\u001b[39m\u001b[39m'\u001b[39m)\n\u001b[0;32m     16\u001b[0m target_file\u001b[39m.\u001b[39mwrite(src_file\u001b[39m.\u001b[39mread())  \u001b[39m# 边读边写\u001b[39;00m\n",
      "File \u001b[1;32m~\\AppData\\Local\\Packages\\PythonSoftwareFoundation.Python.3.10_qbz5n2kfra8p0\\LocalCache\\local-packages\\Python310\\site-packages\\IPython\\core\\interactiveshell.py:282\u001b[0m, in \u001b[0;36m_modified_open\u001b[1;34m(file, *args, **kwargs)\u001b[0m\n\u001b[0;32m    275\u001b[0m \u001b[39mif\u001b[39;00m file \u001b[39min\u001b[39;00m {\u001b[39m0\u001b[39m, \u001b[39m1\u001b[39m, \u001b[39m2\u001b[39m}:\n\u001b[0;32m    276\u001b[0m     \u001b[39mraise\u001b[39;00m \u001b[39mValueError\u001b[39;00m(\n\u001b[0;32m    277\u001b[0m         \u001b[39mf\u001b[39m\u001b[39m\"\u001b[39m\u001b[39mIPython won\u001b[39m\u001b[39m'\u001b[39m\u001b[39mt let you open fd=\u001b[39m\u001b[39m{\u001b[39;00mfile\u001b[39m}\u001b[39;00m\u001b[39m by default \u001b[39m\u001b[39m\"\u001b[39m\n\u001b[0;32m    278\u001b[0m         \u001b[39m\"\u001b[39m\u001b[39mas it is likely to crash IPython. If you know what you are doing, \u001b[39m\u001b[39m\"\u001b[39m\n\u001b[0;32m    279\u001b[0m         \u001b[39m\"\u001b[39m\u001b[39myou can use builtins\u001b[39m\u001b[39m'\u001b[39m\u001b[39m open.\u001b[39m\u001b[39m\"\u001b[39m\n\u001b[0;32m    280\u001b[0m     )\n\u001b[1;32m--> 282\u001b[0m \u001b[39mreturn\u001b[39;00m io_open(file, \u001b[39m*\u001b[39margs, \u001b[39m*\u001b[39m\u001b[39m*\u001b[39mkwargs)\n",
      "\u001b[1;31mFileNotFoundError\u001b[0m: [Errno 2] No such file or directory: 'xiaowangtongxue_logo.jpg'"
     ]
    }
   ],
   "source": [
    "# r只读模式\n",
    "\n",
    "# w为只写模式，不存在则创建，存在则覆盖原有内容\n",
    "file = open('b.txt', 'w')\n",
    "file.write('Python1')  # 用write进行替换原有内容\n",
    "file.close()\n",
    "\n",
    "# a追加模式，不存在则创建，指针在文件开头，文件存在，在文件末尾追加内容，指针在文件末尾\n",
    "file = open('b.txt', 'a')\n",
    "file.write('Python2')\n",
    "file.close()\n",
    "\n",
    "# b以二进制方式打开文件，不能单独使用，需要与其他模式一起使用，rb或者rw\n",
    "src_file = open('xiaowangtongxue_logo.jpg', 'rb')\n",
    "target_file = open('copy_xiaowangtongxue_logo.jpg', 'wb')\n",
    "target_file.write(src_file.read())  # 边读边写\n",
    "src_file.close()\n",
    "\n",
    "# +以读写模式打开，不能单独使用，需要与其他模式一起使用，a+"
   ]
  },
  {
   "attachments": {},
   "cell_type": "markdown",
   "metadata": {},
   "source": [
    "4. 文件对象常用方法"
   ]
  },
  {
   "cell_type": "code",
   "execution_count": null,
   "metadata": {},
   "outputs": [],
   "source": [
    "file = open('a.txt', 'r')\n",
    "print(file.read())  # 读取全部内容\n",
    "print(file.read(2))  # 读取两个字符\n",
    "\n",
    "print(file.readline())  # 读取一行\n",
    "print(file.readlines())  # 每一行作为独立的字符串对象，最后放入列表返回\n",
    "\n",
    "file.seek(2)  # 改变指针，到两个字节后，也就是一个字\n",
    "print(file.read())\n",
    "print(file.tell())  # 返回文件指针的当前位置\n",
    "file.close()\n",
    "\n",
    "file1 = open('c.txt', 'a')\n",
    "lst = ['java', 'go', 'python']\n",
    "file1.write('中国')  # 将字符串内容写入文件\n",
    "file1.writelines(lst)  # 将列表内容写入文件\n",
    "file1.close()\n",
    "\n",
    "# flush()把缓冲区的内容写入文件，但不关闭文件\n",
    "# close()把缓冲区的内容写入文件，关闭文件，释放文件对象相关资源\n",
    "file2 = open('c.txt', 'a')\n",
    "file2.write('hello')\n",
    "file2.flush()\n",
    "file2.write('world')\n",
    "file2.close()  # flush之后还可以写，close之后不可以写，两者换位置以后，不能写入world"
   ]
  },
  {
   "attachments": {},
   "cell_type": "markdown",
   "metadata": {},
   "source": [
    "5. with语句"
   ]
  },
  {
   "cell_type": "code",
   "execution_count": null,
   "metadata": {},
   "outputs": [],
   "source": [
    "# with语句可以自动管理上下文资源，不管什么原因跳出with块，都能确保文件正常关闭，以此来达到释放资源的目的\n",
    "print(type(open('a.txt', 'r')))  # 上下文管理器\n",
    "with open('a.txt', 'r') as file:\n",
    "    print(file.read())  # 离开with语句自动释放，不用close()\n",
    "\n",
    "\"\"\"\n",
    "MyContentMgr实现了特殊方法enter和exit称为该类对象遵守了上下文管理器协议\n",
    "该诶对象的实例对象称为上下文管理器\n",
    "MyContentMgr()为实例对象\n",
    "\"\"\"\n",
    "\n",
    "\n",
    "class MyContentMgr(object):\n",
    "    def __enter__(self):\n",
    "        print('enter方法调用执行了')\n",
    "        return self\n",
    "\n",
    "    def __exit__(self, exc_type, exc_val, exc_tb):\n",
    "        print('exit方法调用执行了')\n",
    "\n",
    "    def show(self):\n",
    "        print('show方法调用执行了')\n",
    "#         print('show方法调用执行了', 1/0)\n",
    "\n",
    "\n",
    "with MyContentMgr() as file:  # 相当于file=MyContentMgr()\n",
    "    file.show()  # 产生异常也调用了exit方法"
   ]
  },
  {
   "cell_type": "code",
   "execution_count": null,
   "metadata": {},
   "outputs": [],
   "source": [
    "with open('xiaowangtongxue_logo.jpg', 'rb') as src_file:\n",
    "    with open('copy2_xiaowangtongxue_logo.jpg', 'wb') as target_file:\n",
    "        target_file.write(src_file.read())"
   ]
  },
  {
   "attachments": {},
   "cell_type": "markdown",
   "metadata": {},
   "source": [
    "6. os模块"
   ]
  },
  {
   "cell_type": "code",
   "execution_count": null,
   "metadata": {},
   "outputs": [],
   "source": [
    "# os模块是与操作系统相关的一个模块\n",
    "import os\n",
    "os.system('notepad.exe')\n",
    "os.system('calc.exe')\n",
    "# 直接调用可执行文件\n",
    "os.startfile('xiaowangtongxue.jpg')\n",
    "\n",
    "# 返回当前的工作目录\n",
    "print(os.getcwd())\n",
    "# 返回指定路径下的文件和目录信息\n",
    "lst = os.listdir('related_data')\n",
    "print(lst)\n",
    "# 创建目录\n",
    "os.mkdir('related_data/new_dir')\n",
    "# 创建多级目录\n",
    "os.makedirs('related_data/A/B/C')"
   ]
  },
  {
   "cell_type": "code",
   "execution_count": null,
   "metadata": {},
   "outputs": [],
   "source": [
    "# 删除目录\n",
    "os.rmdir('related_data/new_dir')\n",
    "os.removedirs('related_data/A/B/C')"
   ]
  },
  {
   "cell_type": "code",
   "execution_count": null,
   "metadata": {},
   "outputs": [],
   "source": [
    "os.mkdir('related_data') # 创建目录\n",
    "os.mkdir('related_data/new_dir') # 创建目录\n",
    "# os.chdir('related_data') # 将path设置为当前工作目录\n",
    "# print(os.getcwd())"
   ]
  },
  {
   "cell_type": "code",
   "execution_count": null,
   "metadata": {},
   "outputs": [],
   "source": [
    "import os.path\n",
    "# 获取文件或目录的绝对路径\n",
    "print(os.path.abspath('with语句.py'))  # 文件的绝对路径\n",
    "# 用于判断文件或目录是否存在，存在返回True，否则False\n",
    "print(os.path.exists('with语句.py'), os.path.exists('demo.py'))\n",
    "# 将目录与目录或者文件名拼接起来\n",
    "print(os.path.join('D:\\\\Notebook\\\\python', 'with语句.py'))\n",
    "# 从一个目录中提取文件名\n",
    "print(os.path.split('D:\\\\Notebook\\\\python\\\\with语句.py'))\n",
    "# 分离文件名和扩展名\n",
    "print(os.path.splitext('with语句.py'))\n",
    "# 从一个路径中提取文件名\n",
    "print(os.path.basename('D:\\\\Notebook\\\\python\\\\with语句.py'))\n",
    "# 从一个路径中提取文件路径，不包括文件名\n",
    "print(os.path.dirname('D:\\\\Notebook\\\\python\\\\with语句.py'))\n",
    "# 用于判断是否为路径\n",
    "print(os.path.isdir('D:\\\\Notebook\\\\python\\\\with语句.py'))  # False，最后的是文件"
   ]
  },
  {
   "cell_type": "code",
   "execution_count": null,
   "metadata": {},
   "outputs": [],
   "source": [
    "# 列出指定目录下的所有文件\n",
    "import os\n",
    "path = os.getcwd()\n",
    "print(\"path: \", path)\n",
    "lst = os.listdir(path)\n",
    "for filename in lst:\n",
    "    if filename.endswith('.py'):\n",
    "        print(filename)"
   ]
  },
  {
   "cell_type": "code",
   "execution_count": null,
   "metadata": {},
   "outputs": [],
   "source": [
    "# 递归遍历目录下所有文件\n",
    "import os\n",
    "path = os.getcwd()\n",
    "lst_files = os.walk(path)\n",
    "for dirpath, dirname, filename in lst_files:\n",
    "    \"\"\"print(dirpath)\n",
    "    print(dirname)\n",
    "    print(filename)\n",
    "    print('-----------')\"\"\"\n",
    "    for dir in dirname:\n",
    "        print(os.path.join(dirpath, dir))\n",
    "    for file in filename:\n",
    "        print(os.path.join(dirpath, file))\n",
    "    print('-------------------')"
   ]
  }
 ],
 "metadata": {
  "kernelspec": {
   "display_name": "Python 3",
   "language": "python",
   "name": "python3"
  },
  "language_info": {
   "codemirror_mode": {
    "name": "ipython",
    "version": 3
   },
   "file_extension": ".py",
   "mimetype": "text/x-python",
   "name": "python",
   "nbconvert_exporter": "python",
   "pygments_lexer": "ipython3",
   "version": "3.10.9"
  },
  "orig_nbformat": 4,
  "vscode": {
   "interpreter": {
    "hash": "1bf0dbbb4f5be86e7d40bba1dd39b226aa38c4806ec7f91362d53e5875e69c4e"
   }
  }
 },
 "nbformat": 4,
 "nbformat_minor": 2
}
